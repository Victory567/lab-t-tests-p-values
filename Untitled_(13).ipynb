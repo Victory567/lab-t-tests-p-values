{
  "cells": [
    {
      "cell_type": "markdown",
      "metadata": {
        "id": "view-in-github",
        "colab_type": "text"
      },
      "source": [
        "<a href=\"https://colab.research.google.com/github/Victory567/lab-t-tests-p-values/blob/master/Untitled_(13).ipynb\" target=\"_parent\"><img src=\"https://colab.research.google.com/assets/colab-badge.svg\" alt=\"Open In Colab\"/></a>"
      ]
    },
    {
      "cell_type": "code",
      "execution_count": null,
      "id": "bf72f069",
      "metadata": {
        "id": "bf72f069"
      },
      "outputs": [],
      "source": [
        "\n",
        "import scipy.stats as stats\n",
        "import pandas as pd\n",
        "\n",
        "\n",
        "\n",
        "\n",
        "\n",
        "\n",
        "\n",
        "\n",
        "\n",
        "\n",
        "\n"
      ]
    },
    {
      "cell_type": "code",
      "execution_count": null,
      "id": "0cdf0609",
      "metadata": {
        "id": "0cdf0609",
        "outputId": "15dec04c-c60f-41bb-e2ee-8c1b1a4f4907"
      },
      "outputs": [
        {
          "data": {
            "text/html": [
              "<div>\n",
              "<style scoped>\n",
              "    .dataframe tbody tr th:only-of-type {\n",
              "        vertical-align: middle;\n",
              "    }\n",
              "\n",
              "    .dataframe tbody tr th {\n",
              "        vertical-align: top;\n",
              "    }\n",
              "\n",
              "    .dataframe thead th {\n",
              "        text-align: right;\n",
              "    }\n",
              "</style>\n",
              "<table border=\"1\" class=\"dataframe\">\n",
              "  <thead>\n",
              "    <tr style=\"text-align: right;\">\n",
              "      <th></th>\n",
              "      <th>new_machine</th>\n",
              "      <th>old_machine</th>\n",
              "    </tr>\n",
              "  </thead>\n",
              "  <tbody>\n",
              "    <tr>\n",
              "      <th>0</th>\n",
              "      <td>42.1</td>\n",
              "      <td>42.7</td>\n",
              "    </tr>\n",
              "    <tr>\n",
              "      <th>1</th>\n",
              "      <td>41.0</td>\n",
              "      <td>43.6</td>\n",
              "    </tr>\n",
              "    <tr>\n",
              "      <th>2</th>\n",
              "      <td>41.3</td>\n",
              "      <td>43.8</td>\n",
              "    </tr>\n",
              "    <tr>\n",
              "      <th>3</th>\n",
              "      <td>41.8</td>\n",
              "      <td>43.3</td>\n",
              "    </tr>\n",
              "    <tr>\n",
              "      <th>4</th>\n",
              "      <td>42.4</td>\n",
              "      <td>42.5</td>\n",
              "    </tr>\n",
              "    <tr>\n",
              "      <th>5</th>\n",
              "      <td>42.8</td>\n",
              "      <td>43.5</td>\n",
              "    </tr>\n",
              "    <tr>\n",
              "      <th>6</th>\n",
              "      <td>43.2</td>\n",
              "      <td>43.1</td>\n",
              "    </tr>\n",
              "    <tr>\n",
              "      <th>7</th>\n",
              "      <td>42.3</td>\n",
              "      <td>41.7</td>\n",
              "    </tr>\n",
              "    <tr>\n",
              "      <th>8</th>\n",
              "      <td>41.8</td>\n",
              "      <td>44.0</td>\n",
              "    </tr>\n",
              "    <tr>\n",
              "      <th>9</th>\n",
              "      <td>42.7</td>\n",
              "      <td>44.1</td>\n",
              "    </tr>\n",
              "  </tbody>\n",
              "</table>\n",
              "</div>"
            ],
            "text/plain": [
              "   new_machine  old_machine\n",
              "0         42.1         42.7\n",
              "1         41.0         43.6\n",
              "2         41.3         43.8\n",
              "3         41.8         43.3\n",
              "4         42.4         42.5\n",
              "5         42.8         43.5\n",
              "6         43.2         43.1\n",
              "7         42.3         41.7\n",
              "8         41.8         44.0\n",
              "9         42.7         44.1"
            ]
          },
          "execution_count": 4,
          "metadata": {},
          "output_type": "execute_result"
        }
      ],
      "source": [
        "data1 = pd.read_csv('Untitled spreadsheet - machine.csv')\n",
        "\n",
        "data1.columns = [columns_name.lower() for columns_name in data1.columns]\n",
        "data1.columns = [columns_name.replace(' ', '_') for columns_name in data1.columns]\n",
        "data1"
      ]
    },
    {
      "cell_type": "code",
      "execution_count": null,
      "id": "fdfb07b8",
      "metadata": {
        "id": "fdfb07b8",
        "outputId": "f30af979-0028-4edb-d610-5b37b7d3e9d8"
      },
      "outputs": [
        {
          "name": "stdout",
          "output_type": "stream",
          "text": [
            "[-22939.51122213 -20902.67430537] [2.89476532e-36 6.68427196e-36]\n"
          ]
        }
      ],
      "source": [
        "\n",
        "t_statistic, p_value = stats.ttest_1samp(a=data1, popmean=5000)\n",
        "print(t_statistic , p_value)"
      ]
    },
    {
      "cell_type": "code",
      "execution_count": null,
      "id": "68e187fc",
      "metadata": {
        "id": "68e187fc",
        "outputId": "c717d5f4-26bc-4a9d-c703-21da314216ba"
      },
      "outputs": [
        {
          "ename": "SyntaxError",
          "evalue": "EOL while scanning string literal (333729928.py, line 6)",
          "output_type": "error",
          "traceback": [
            "\u001b[1;36m  Input \u001b[1;32mIn [13]\u001b[1;36m\u001b[0m\n\u001b[1;33m    data = pd.read_csv('Untitled spreadsheet - machine.csv)\u001b[0m\n\u001b[1;37m                                                           ^\u001b[0m\n\u001b[1;31mSyntaxError\u001b[0m\u001b[1;31m:\u001b[0m EOL while scanning string literal\n"
          ]
        }
      ],
      "source": [
        "# import packages\n",
        "import scipy.stats as stats\n",
        "import pandas as pd\n",
        "  \n",
        "# loading the csv file\n",
        "data = pd.read_csv('Untitled spreadsheet - machine.csv)\n",
        "  \n",
        "# perform one sample t-test\n",
        "t_statistic, p_value = stats.ttest_1samp(a=data, popmean=5000)\n",
        "print(t_statistic , p_value)"
      ]
    },
    {
      "cell_type": "code",
      "execution_count": null,
      "id": "1ec25d07",
      "metadata": {
        "id": "1ec25d07"
      },
      "outputs": [],
      "source": [
        "# the data showss that the new machine is more efficient than the old machine "
      ]
    }
  ],
  "metadata": {
    "kernelspec": {
      "display_name": "Python 3 (ipykernel)",
      "language": "python",
      "name": "python3"
    },
    "language_info": {
      "codemirror_mode": {
        "name": "ipython",
        "version": 3
      },
      "file_extension": ".py",
      "mimetype": "text/x-python",
      "name": "python",
      "nbconvert_exporter": "python",
      "pygments_lexer": "ipython3",
      "version": "3.9.12"
    },
    "colab": {
      "provenance": [],
      "include_colab_link": true
    }
  },
  "nbformat": 4,
  "nbformat_minor": 5
}