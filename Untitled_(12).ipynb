{
  "cells": [
    {
      "cell_type": "markdown",
      "metadata": {
        "id": "view-in-github",
        "colab_type": "text"
      },
      "source": [
        "<a href=\"https://colab.research.google.com/github/Victory567/lab-t-tests-p-values/blob/master/Untitled_(12).ipynb\" target=\"_parent\"><img src=\"https://colab.research.google.com/assets/colab-badge.svg\" alt=\"Open In Colab\"/></a>"
      ]
    },
    {
      "cell_type": "code",
      "execution_count": null,
      "id": "bf72f069",
      "metadata": {
        "id": "bf72f069",
        "outputId": "677da028-45ff-45f4-b4ac-ddddd3ffadf7"
      },
      "outputs": [
        {
          "data": {
            "text/html": [
              "<div>\n",
              "<style scoped>\n",
              "    .dataframe tbody tr th:only-of-type {\n",
              "        vertical-align: middle;\n",
              "    }\n",
              "\n",
              "    .dataframe tbody tr th {\n",
              "        vertical-align: top;\n",
              "    }\n",
              "\n",
              "    .dataframe thead th {\n",
              "        text-align: right;\n",
              "    }\n",
              "</style>\n",
              "<table border=\"1\" class=\"dataframe\">\n",
              "  <thead>\n",
              "    <tr style=\"text-align: right;\">\n",
              "      <th></th>\n",
              "      <th>Unnamed: 0</th>\n",
              "    </tr>\n",
              "  </thead>\n",
              "  <tbody>\n",
              "    <tr>\n",
              "      <th>0</th>\n",
              "      <td>4.0</td>\n",
              "    </tr>\n",
              "    <tr>\n",
              "      <th>1</th>\n",
              "      <td>4.0</td>\n",
              "    </tr>\n",
              "    <tr>\n",
              "      <th>2</th>\n",
              "      <td>4.0</td>\n",
              "    </tr>\n",
              "    <tr>\n",
              "      <th>3</th>\n",
              "      <td>4.0</td>\n",
              "    </tr>\n",
              "    <tr>\n",
              "      <th>4</th>\n",
              "      <td>4.0</td>\n",
              "    </tr>\n",
              "  </tbody>\n",
              "</table>\n",
              "</div>"
            ],
            "text/plain": [
              "   Unnamed: 0\n",
              "0         4.0\n",
              "1         4.0\n",
              "2         4.0\n",
              "3         4.0\n",
              "4         4.0"
            ]
          },
          "execution_count": 5,
          "metadata": {},
          "output_type": "execute_result"
        }
      ],
      "source": [
        "\n",
        "import scipy.stats as stats\n",
        "import pandas as pd\n",
        "\n",
        "\n",
        "data = pd.read_csv('machine.csv')\n",
        "data.head()\n"
      ]
    },
    {
      "cell_type": "code",
      "execution_count": null,
      "id": "fdfb07b8",
      "metadata": {
        "id": "fdfb07b8",
        "outputId": "a80535ed-01c0-4d9a-b881-7544451c7da2"
      },
      "outputs": [
        {
          "name": "stdout",
          "output_type": "stream",
          "text": [
            "[nan] [nan]\n"
          ]
        }
      ],
      "source": [
        "\n",
        "t_statistic, p_value = stats.ttest_1samp(a=data, popmean=5000)\n",
        "print(t_statistic , p_value)"
      ]
    },
    {
      "cell_type": "code",
      "execution_count": null,
      "id": "68e187fc",
      "metadata": {
        "id": "68e187fc",
        "outputId": "6084f515-d251-42a1-c917-7d3bda753a55"
      },
      "outputs": [
        {
          "name": "stdout",
          "output_type": "stream",
          "text": [
            "[nan] [nan]\n"
          ]
        }
      ],
      "source": [
        "# import packages\n",
        "import scipy.stats as stats\n",
        "import pandas as pd\n",
        "  \n",
        "# loading the csv file\n",
        "data = pd.read_csv('machine.csv')\n",
        "  \n",
        "# perform one sample t-test\n",
        "t_statistic, p_value = stats.ttest_1samp(a=data, popmean=5000)\n",
        "print(t_statistic , p_value)"
      ]
    },
    {
      "cell_type": "code",
      "execution_count": null,
      "id": "1ec25d07",
      "metadata": {
        "id": "1ec25d07"
      },
      "outputs": [],
      "source": [
        "# the data is not enough to know if one machine is better than the other "
      ]
    }
  ],
  "metadata": {
    "kernelspec": {
      "display_name": "Python 3 (ipykernel)",
      "language": "python",
      "name": "python3"
    },
    "language_info": {
      "codemirror_mode": {
        "name": "ipython",
        "version": 3
      },
      "file_extension": ".py",
      "mimetype": "text/x-python",
      "name": "python",
      "nbconvert_exporter": "python",
      "pygments_lexer": "ipython3",
      "version": "3.9.12"
    },
    "colab": {
      "provenance": [],
      "include_colab_link": true
    }
  },
  "nbformat": 4,
  "nbformat_minor": 5
}